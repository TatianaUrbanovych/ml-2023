{
 "cells": [
  {
   "cell_type": "code",
   "execution_count": 1,
   "id": "2974334c",
   "metadata": {},
   "outputs": [],
   "source": [
    "import numpy as np"
   ]
  },
  {
   "cell_type": "code",
   "execution_count": 4,
   "id": "177c26fd",
   "metadata": {},
   "outputs": [
    {
     "name": "stdout",
     "output_type": "stream",
     "text": [
      "Solving a system of linear algebraic equations by Cramer's method\n",
      "x = 10000.0 y = 25000.0 z = 15000.0\n",
      "Checking the correctness of the solution\n",
      " [[10000.]\n",
      " [25000.]\n",
      " [15000.]]\n"
     ]
    }
   ],
   "source": [
    "#1\n",
    "a = np.matrix('1 1 1 ; 0.05, 0.07 0 ; 0.05 0 0.06')\n",
    "b = np.matrix('50000 ; 2250 ; 1400')\n",
    "def kram(a, b):\n",
    "    det_a = np.linalg.det(a)\n",
    "    if det_a != 0:\n",
    "        a1 = np.matrix(a)\n",
    "        a2 = np.matrix(a)\n",
    "        a3 = np.matrix(a)\n",
    "        a1[:, 0] = b\n",
    "        a2[:, 1] = b\n",
    "        a3[:, 2] = b\n",
    "        x = np.linalg.det(a1)/det_a\n",
    "        y = np.linalg.det(a2)/det_a\n",
    "        z = np.linalg.det(a3)/det_a\n",
    "        print(\"Solving a system of linear algebraic equations by Cramer's method\")\n",
    "        print(\"x =\", x.round(3), \"y =\", y.round(3), \"z =\", z.round(3))\n",
    "    else:\n",
    "        print(\"Determinant equals zero, the system has no solution.\")\n",
    "    return x, y, z\n",
    "kram(a, b)\n",
    "print(\"Checking the correctness of the solution\\n\", np.linalg.solve(a, b). round(3))"
   ]
  },
  {
   "cell_type": "code",
   "execution_count": null,
   "id": "2f84065e",
   "metadata": {},
   "outputs": [],
   "source": [
    "#2\n"
   ]
  },
  {
   "cell_type": "code",
   "execution_count": 17,
   "id": "afb67c8f",
   "metadata": {},
   "outputs": [
    {
     "name": "stdout",
     "output_type": "stream",
     "text": [
      "Solving a system of linear algebraic equations by Cramer's method\n",
      "a_2 = 0.125 b_2 = -1.5 c_2 = -0.2\n",
      "Checking the correctness of the solution\n",
      " [[ 0.125]\n",
      " [-1.5  ]\n",
      " [-0.2  ]]\n",
      "Checking the correctness of the solution using the inverse matrix\n",
      " [[ 0.125]\n",
      " [-1.5  ]\n",
      " [-0.2  ]]\n"
     ]
    }
   ],
   "source": [
    "#3\n",
    "a = np.matrix([[3**(-1), 0, 3**(-1)], [6**(-1), 0.5, 0], [1, 1/(3**(-1)), 1]])\n",
    "b = np.matrix([[1], [1], [1]])\n",
    "def iph_kr(a, b):\n",
    "    det_a = np.linalg.det(a)\n",
    "    if det_a != 0:\n",
    "        a1 = np.matrix(a)\n",
    "        a2 = np.matrix(a)\n",
    "        a3 = np.matrix(a)\n",
    "        a1[:, 0] = b\n",
    "        a2[:, 1] = b\n",
    "        a3[:, 2] = b\n",
    "        x = np.linalg.det(a1)/det_a\n",
    "        y = np.linalg.det(a2)/det_a\n",
    "        z = np.linalg.det(a3)/det_a\n",
    "        a_2 = 1/x\n",
    "        b_2 = 1/y\n",
    "        c_2 = 1/z\n",
    "        print(\"Solving a system of linear algebraic equations by Cramer's method\")\n",
    "        print(\"a_2 =\", a_2.round(3), \"b_2 =\", b_2.round(3), \"c_2 =\", c_2.round(3))\n",
    "    else:\n",
    "        print(\"Determinant equals zero, the system has no solution.\")\n",
    "iph_kr(a, b)\n",
    "print(\"Checking the correctness of the solution\\n\", (1/np.linalg.solve(a, b)).round(3))\n",
    "print(\"Checking the correctness of the solution using the inverse matrix\\n\", (1/(np.linalg.inv(a)*b)).round(3))"
   ]
  },
  {
   "cell_type": "code",
   "execution_count": 3,
   "id": "24362dfb",
   "metadata": {},
   "outputs": [
    {
     "name": "stdout",
     "output_type": "stream",
     "text": [
      "Solving a system of linear algebraic equations by Cramer's method\n",
      "a = 4.0 b = 5.0 c = 3.0\n",
      "Checking the correctness of the solution\n",
      " [[4.]\n",
      " [5.]\n",
      " [3.]]\n",
      "Checking the correctness of the solution using the inverse matrix\n",
      " [[4.]\n",
      " [5.]\n",
      " [3.]]\n"
     ]
    }
   ],
   "source": [
    "#4\n",
    "aa = np.matrix('1 1 1 ; 9 3 1 ; 1 -1 1')\n",
    "b = np.matrix('12 ; 54 ; 2')\n",
    "def par(aa, b):\n",
    "    det_a = np.linalg.det(aa)\n",
    "    if det_a != 0:\n",
    "        a1 = np.matrix(aa)\n",
    "        a2 = np.matrix(aa)\n",
    "        a3 = np.matrix(aa)\n",
    "        a1[:, 0] = b\n",
    "        a2[:, 1] = b\n",
    "        a3[:, 2] = b\n",
    "        a = np.linalg.det(a1)/det_a\n",
    "        b = np.linalg.det(a2)/det_a\n",
    "        c = np.linalg.det(a3)/det_a\n",
    "        print(\"Solving a system of linear algebraic equations by Cramer's method\")\n",
    "        print(\"a =\", a.round(3), \"b =\", b.round(3), \"c =\", c.round(3))\n",
    "    else:\n",
    "        print(\"Determinant equals zero, the system has no solution.\")\n",
    "    return a, b, c\n",
    "par(aa, b)\n",
    "print(\"Checking the correctness of the solution\\n\", np.linalg.solve(aa, b).round(3))\n",
    "print(\"Checking the correctness of the solution using the inverse matrix\\n\", (np.linalg.inv(aa)*b).round(3))"
   ]
  },
  {
   "cell_type": "code",
   "execution_count": null,
   "id": "609e3a05",
   "metadata": {},
   "outputs": [],
   "source": [
    "#5\n",
    "def get_polynom(coords):\n",
    "    \n",
    "    return np.linalg.solve(a, b)\n",
    "\n",
    "# function multiply(a1, a2) {\n",
    "#     var result = [];\n",
    "#     a1.forEach(function (a, i) {\n",
    "#         a2.forEach(function (b, j) {\n",
    "#             result[i + j] = (result[i + j] || 0) + a * b;\n",
    "#         });\n",
    "#     });\n",
    "#     return result;\n",
    "# }\n",
    "\n",
    "# var data = [[1, 3], [1, 1], [1, 2]], // (1+3x)(1+x)(1+2x)\n",
    "#     result = data.reduce(multiply);\n",
    "    \n",
    "# console.log(result);    "
   ]
  }
 ],
 "metadata": {
  "kernelspec": {
   "display_name": "Python 3 (ipykernel)",
   "language": "python",
   "name": "python3"
  },
  "language_info": {
   "codemirror_mode": {
    "name": "ipython",
    "version": 3
   },
   "file_extension": ".py",
   "mimetype": "text/x-python",
   "name": "python",
   "nbconvert_exporter": "python",
   "pygments_lexer": "ipython3",
   "version": "3.9.1"
  }
 },
 "nbformat": 4,
 "nbformat_minor": 5
}
